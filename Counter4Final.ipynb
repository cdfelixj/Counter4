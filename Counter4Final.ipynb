{
 "cells": [
  {
   "cell_type": "markdown",
   "id": "2ead54de-03a0-4828-8aa6-3070847a9d53",
   "metadata": {},
   "source": [
    "# Prepatory Functions"
   ]
  },
  {
   "cell_type": "code",
   "execution_count": 1,
   "id": "2076eed6-ada3-48f9-9377-56f203d41eb5",
   "metadata": {
    "tags": []
   },
   "outputs": [],
   "source": [
    "# Create the game board\n",
    "board = [[' ' for _ in range(7)] for _ in range(6)]"
   ]
  },
  {
   "cell_type": "code",
   "execution_count": 2,
   "id": "44702614-e7d1-4ca6-a447-432f12c2df5a",
   "metadata": {
    "tags": []
   },
   "outputs": [],
   "source": [
    "# Function to print the game board\n",
    "def print_board(board):\n",
    "    for row in board:\n",
    "        print(\"|\", end=\" \")\n",
    "        for cell in row:\n",
    "            print(cell, end=\" | \")\n",
    "        print()\n",
    "        print(\"+---+---+---+---+---+---+---+\")\n",
    "    print(\"  1   2   3   4   5   6   7\")\n",
    "\n"
   ]
  },
  {
   "cell_type": "code",
   "execution_count": 3,
   "id": "ef949fe5-40dc-4891-8463-69c96b8f6a5b",
   "metadata": {
    "tags": []
   },
   "outputs": [],
   "source": [
    "# Function to check if a player has won\n",
    "def check_win(board, player):\n",
    "    # Check horizontal\n",
    "    for row in range(6):\n",
    "        for col in range(4):\n",
    "            if board[row][col] == board[row][col + 1] == board[row][col + 2] == board[row][col + 3] == player:\n",
    "                return True\n",
    "\n",
    "    # Check vertical\n",
    "    for col in range(7):\n",
    "        for row in range(3):\n",
    "            if board[row][col] == board[row + 1][col] == board[row + 2][col] == board[row + 3][col] == player:\n",
    "                return True\n",
    "\n",
    "    # Check diagonal (top left to bottom right)\n",
    "    for row in range(3):\n",
    "        for col in range(4):\n",
    "            if board[row][col] == board[row + 1][col + 1] == board[row + 2][col + 2] == board[row + 3][col + 3] == player:\n",
    "                return True\n",
    "\n",
    "    # Check diagonal (top right to bottom left)\n",
    "    for row in range(3):\n",
    "        for col in range(3, 7):\n",
    "            if board[row][col] == board[row + 1][col - 1] == board[row + 2][col - 2] == board[row + 3][col - 3] == player:\n",
    "                return True\n",
    "\n",
    "    return False\n"
   ]
  },
  {
   "cell_type": "code",
   "execution_count": 4,
   "id": "3ad725fb-ca0b-45ef-aa3c-b2b434d8c247",
   "metadata": {
    "tags": []
   },
   "outputs": [],
   "source": [
    "# Function to check if the game board is full\n",
    "def is_board_full(board):\n",
    "    for row in board:\n",
    "        if ' ' in row:\n",
    "            return False\n",
    "    return True"
   ]
  },
  {
   "cell_type": "code",
   "execution_count": 5,
   "id": "c7a3e00f-18fa-4409-b932-0067ccd172b9",
   "metadata": {
    "tags": []
   },
   "outputs": [],
   "source": [
    "# Function to drop a piece in a column\n",
    "def drop_piece(board, col, player):\n",
    "    for row in range(5, -1, -1):\n",
    "        if board[row][col] == ' ':\n",
    "            board[row][col] = player\n",
    "            break"
   ]
  },
  {
   "cell_type": "code",
   "execution_count": 6,
   "id": "f26e3fec-cc9c-41fd-ab0b-0df452ff898a",
   "metadata": {
    "tags": []
   },
   "outputs": [],
   "source": [
    "#Reset Board\n",
    "def reset_board():\n",
    "    global board\n",
    "    board = [[' ' for _ in range(7)] for _ in range(6)]\n",
    "    \n",
    "reset_board()"
   ]
  },
  {
   "cell_type": "markdown",
   "id": "2d9d3593-8c8d-4d86-9230-1f7fea3fe093",
   "metadata": {
    "tags": []
   },
   "source": [
    "#### Block if there are 3 same inputs"
   ]
  },
  {
   "cell_type": "code",
   "execution_count": 7,
   "id": "c9dd2d2b-7c94-4385-9273-6cf2d68cff40",
   "metadata": {
    "tags": []
   },
   "outputs": [],
   "source": [
    "import random\n",
    "\n",
    "def block_three_line(board, current_player):\n",
    "    opponent = 'X' if current_player == 'O' else 'O' \n",
    "    # Check horizontalright\n",
    "    for row in range(6):\n",
    "        for col in range(4):\n",
    "            if (board[row][col] == board[row][col + 1] == board[row][col + 2] == opponent) and (col + 3 < 7 and board[row][col + 3] == ' '):\n",
    "                return col + 3\n",
    "            elif (col + 3 < 7 and board[row][col] == board[row][col + 1] == opponent == board[row][col + 3]) and (col + 2 < 7 and board[row][col + 2] == ' '):\n",
    "                return col + 2\n",
    "            elif (col + 4 < 7 and board[row][col] == board[row][col + 2] == opponent == board[row][col + 3]) and (col + 1 < 7 and board[row][col + 1] == ' '):\n",
    "                return col + 1\n",
    "    #check horizontal left\n",
    "    for row in range(6):\n",
    "        for col in range(3, 7):\n",
    "            if (board[row][col] == board[row][col - 1] == board[row][col - 2] == opponent) and (col - 3 >= 0 and board[row][col - 3] == ' '):\n",
    "                return col - 3\n",
    "            elif (col - 3 >= 0 and board[row][col] == board[row][col - 1] == opponent == board[row][col - 3]) and (col - 2 >= 0 and board[row][col - 2] == ' '):\n",
    "                return col - 2\n",
    "            elif (col - 4 >= 0 and board[row][col] == board[row][col - 2] == opponent == board[row][col - 3]) and (col - 1 >= 0 and board[row][col - 1] == ' '):\n",
    "                return col - 1\n",
    "\n",
    "            \n",
    "    # Check vertical\n",
    "    for col in range(7):\n",
    "        for row in range(3, 6):\n",
    "            if (board[row][col] == opponent and board[row - 1][col] == opponent and board[row - 2][col] == opponent):\n",
    "                if row - 3 >= 0 and board[row - 3][col] == ' ':\n",
    "                    return col\n",
    "     # Check diagonal (top left to bottom right)\n",
    "    for row in range(3):\n",
    "        for col in range(4):\n",
    "            if (board[row][col] == board[row + 1][col + 1] == board[row + 2][col + 2] == opponent) and (row + 3 < 6 and col + 3 < 7 and board[row + 3][col + 3] == ' '):\n",
    "                return col + 3\n",
    "            elif (board[row][col] == board[row + 1][col + 1] == board[row + 3][col + 3] == opponent) and (row + 3 < 6 and col + 3 < 7 and board[row + 2][col + 2] == ' '):\n",
    "                return col + 2\n",
    "            elif (board[row][col] == board[row + 2][col + 2] == board[row + 3][col + 3] == opponent) and (row + 3 < 6 and col + 3 < 7 and board[row + 1][col + 1] == ' '):\n",
    "                return col + 1\n",
    "\n",
    "    # Check diagonal (top right to bottom left)\n",
    "    for row in range(3):\n",
    "        for col in range(3, 7):\n",
    "            if (board[row][col] == board[row + 1][col - 1] == board[row + 2][col - 2] == opponent) and (row + 3 < 6 and col - 3 >= 0 and board[row + 3][col - 3] == ' '):\n",
    "                return col - 3\n",
    "            elif (board[row][col] == board[row + 1][col - 1] == board[row + 3][col - 3] == opponent) and (row + 3 < 6 and col - 3 >= 0 and board[row + 2][col - 2] == ' '):\n",
    "                return col - 2\n",
    "            elif (board[row][col] == board[row + 2][col - 2] == board[row + 3][col - 3] == opponent) and (row + 3 < 6 and col - 3 >= 0 and board[row + 1][col - 1] == ' '):\n",
    "                return col - 1\n",
    "\n",
    "    # Check diagonal (top left to bottom right) in reverse order\n",
    "    for row in range(3, 6):\n",
    "        for col in range(3, 7):\n",
    "            if (board[row][col] == board[row - 1][col - 1] == board[row - 2][col - 2] == opponent) and (row - 3 >= 0 and col - 3 >= 0 and board[row - 3][col - 3] == ' '):\n",
    "                return col - 3\n",
    "            elif (board[row][col] == board[row - 1][col - 1] == board[row - 3][col - 3] == opponent) and (row - 3 >= 0 and col - 3 >= 0 and board[row - 2][col - 2] == ' '):\n",
    "                return col - 2\n",
    "            elif (board[row][col] == board[row - 2][col - 2] == board[row - 3][col - 3] == opponent) and (row - 3 >= 0 and col - 3 >= 0 and board[row - 1][col - 1] == ' '):\n",
    "                return col - 1\n",
    "\n",
    "    # Check diagonal (top right to bottom left) in reverse order\n",
    "    for row in range(3, 6):\n",
    "        for col in range(4):\n",
    "            if (board[row][col] == board[row - 1][col + 1] == board[row - 2][col + 2] == opponent) and (row - 3 >= 0 and col + 3 < 7 and board[row - 3][col + 3] == ' '):\n",
    "                return col + 3\n",
    "            elif (board[row][col] == board[row - 1][col + 1] == board[row - 3][col + 3] == opponent) and (row - 3 >= 0 and col + 3 < 7 and board[row - 2][col + 2] == ' '):\n",
    "                return col + 2\n",
    "            elif (board[row][col] == board[row - 2][col + 2] == board[row - 3][col + 3] == opponent) and (row - 3 >= 0 and col + 3 < 7 and board[row - 1][col + 1] == ' '):\n",
    "                return col + 1\n",
    "        # Block O X X _\n",
    "    for row in range(6):\n",
    "        for col in range(4):\n",
    "            if (board[row][col] == board[row][col + 1] == opponent) and (col + 2 < 7 and board[row][col + 2] == ' '):\n",
    "                return col + 2\n",
    "\n",
    "    # Block _ X X O\n",
    "    for row in range(6):\n",
    "        for col in range(3, 7):\n",
    "            if (board[row][col] == board[row][col - 1] == opponent) and (col - 2 >= 0 and board[row][col - 2] == ' '):\n",
    "                return col - 2\n",
    "            \n",
    "\n",
    "    return None"
   ]
  },
  {
   "cell_type": "markdown",
   "id": "3d3cd4de-666e-4fb8-8553-0526d633cf5f",
   "metadata": {},
   "source": [
    "### Block two output"
   ]
  },
  {
   "cell_type": "code",
   "execution_count": 8,
   "id": "b7e33aab-f0e4-4a86-bf1b-734db7dab358",
   "metadata": {
    "tags": []
   },
   "outputs": [],
   "source": [
    "import random\n",
    "def block_two_line(board, current_player):\n",
    "    opponent = 'X' if current_player == 'O' else 'O'\n",
    "    # Check horizontal\n",
    "    for row in range(6):\n",
    "        for col in range(4):\n",
    "            if (col <= 0 and board[row][col+1] == board[row][col + 2] == opponent) and (col + 3 < 7 and board[row][col + 3] == ' ' == board[row][col]):\n",
    "                return col if board[row][col] == \" \" else col + 3\n",
    "            elif (col <= 0 and board[row][col + 1] == board[row][col + 3] == opponent) and (col + 3 < 7 and board[row][col + 2] == ' ' == board[row][col]):\n",
    "                return col if board[row][col] == \" \" else col + 2\n",
    "            elif (col <= 0 and board[row][col + 1] == board[row][col + 3] == opponent) and (col + 4 < 7 and board[row][col + 2] == ' ' == board[row][col] == board[row][col + 4]):\n",
    "                return col if board[row][col] == \" \" else col + 2 if board[row][col + 2] == \" \" else col + 4\n",
    "            elif (col <= 0 and board[row][col] == board[row][col + 1] == opponent) and (col + 3 < 7 and board[row][col + 2] == ' ' == board[row][col + 3]):\n",
    "                return col + 3 if board[row][col + 3] == \" \" else col + 2\n",
    "            elif (col <= 0 and board[row][col + 2] == board[row][col + 3] == opponent) and (col + 3 < 7 and board[row][col + 1] == ' ' == board[row][col]):\n",
    "                return col if board[row][col] == \" \" else col + 1\n",
    "            elif (col <= 0 and board[row][col] == board[row][col + 3] == opponent) and (col + 3 < 7 and board[row][col + 1] == ' ' == board[row][col + 2]):\n",
    "                return col + 1 if board[row][col + 1] == \" \" else col + 2\n",
    "            elif (col <= 0 and board[row][col] == board[row][col + 2] == opponent) and (col + 3 < 7 and board[row][col + 1] == ' ' == board[row][col + 3]):\n",
    "                return col + 1 if board[row][col + 1] == \" \" else col + 3\n",
    "            \n",
    "    # Check vertical\n",
    "    for col in range(7):\n",
    "        for row in range(3, 6):\n",
    "            if (board[row][col] == current_player == board[row - 1][col]):\n",
    "                if row - 3 >= 0 and board[row - 3][col] == ' ' == board[row - 2][col]:\n",
    "                    return col\n",
    "\n",
    "    # Check diagonal (top right to bottom left)\n",
    "    for row in range(3, 6):\n",
    "        for col in range(4):\n",
    "            if (board[row][col] == board[row - 1][col + 1] == opponent) and (row - 3 >= 0 and col + 3 < 7 and board[row - 3][col + 3] == ' ' == board[row - 2][col + 2]):\n",
    "                return col + 2 if board[row - 2][col + 2] == \" \" else col + 3\n",
    "            elif (board[row][col] == board[row - 2][col + 2] == opponent) and (row - 3 >= 0 and col + 3 < 7 and board[row - 2][col + 2] == ' ' == board[row - 1][col + 1]):\n",
    "                return col + 2 if board[row - 2][col + 2] == \" \" else col + 1\n",
    "            elif (board[row - 1][col + 1] == board[row - 2][col + 2] == opponent) and (row - 3 >= 0 and col + 3 < 7 and board[row][col] == ' ' == board[row - 3][col + 3] ):\n",
    "                return col if board[row][col] == \" \" else col + 3\n",
    "            elif (board[row][col] == board[row - 3][col + 3] == current_player) and (row - 3 >= 0 and col + 3 < 7 and board[row - 1][col + 1] == ' ' == board[row - 2][col + 2] ):\n",
    "                return col + 1 if board[row - 1][col + 1] == \" \" else col + 2\n",
    "            elif (board[row - 1][col + 1] == board[row - 3][col + 3] == opponent) and (row - 3 >= 0 and col + 3 < 7 and board[row][col] == ' ' == board[row - 2][col + 2] ):\n",
    "                return col if board[row][col] == \" \" else col + 2\n",
    "            elif (board[row - 2][col + 2] == board[row - 3][col + 3] == opponent) and (row - 3 >= 0 and col + 3 < 7 and board[row][col] == ' ' == board[row - 1][col + 1] ):\n",
    "                return col if board[row][col] == \" \" else col + 1 \n",
    "\n",
    "    # Check diagonal (top left to bottom right)\n",
    "    for row in range(3):\n",
    "        for col in range(4):\n",
    "            if (board[row][col] == board[row + 1][col + 1] == opponent) and (row + 3 < 6 and col + 3 < 7 and board[row + 3][col + 3] == ' ' == board[row + 2][col + 2] ):\n",
    "                return col + 3 if board[row + 3][col + 3] == \" \" else col + 2\n",
    "            elif (board[row][col] == board[row + 2][col + 2] == opponent) and (row + 3 < 6 and col + 3 < 7 and board[row + 1][col + 1] == ' ' == board[row + 3][col + 3] ):\n",
    "                return col + 1 if board[row + 1][col + 1] == \" \" else col + 3\n",
    "            elif (board[row + 1][col + 1] == board[row + 2][col + 2] == opponent) and (row + 3 < 6 and col + 3 < 7 and board[row][col] == ' ' == board[row + 3][col + 3] ):\n",
    "                return col if board[row][col] == \" \" else col + 3\n",
    "            elif (board[row][col] == board[row + 3][col + 3] == opponent) and (row + 3 < 6 and col + 3 < 7 and board[row + 1][col + 1] == ' ' == board[row + 2][col + 2] ):\n",
    "                return col + 1 if board[row + 1][col + 1] == \" \" else col + 2\n",
    "            elif (board[row + 1][col + 1] == board[row + 3][col + 3] == opponent) and (row + 3 < 6 and col + 3 < 7 and board[row][col] == ' ' == board[row + 2][col + 2] ):\n",
    "                return col if board[row][col] == \" \" else col + 2\n",
    "            elif (board[row + 2][col + 2] == board[row + 3][col + 3] == opponent) and (row + 3 < 6 and col + 3 < 7 and board[row][col] == ' ' == board[row + 1][col + 1] ):\n",
    "                return col if board[row][col] == \" \" else col + 1\n",
    "\n",
    "    return None"
   ]
  },
  {
   "cell_type": "markdown",
   "id": "8b63fa35-fc6f-4aef-a0bc-82d40da3d006",
   "metadata": {
    "tags": []
   },
   "source": [
    "#### Tries to make it 4 if there are 3 same inputs"
   ]
  },
  {
   "cell_type": "code",
   "execution_count": null,
   "id": "b222d52d-7aef-4be7-99ea-4813473be933",
   "metadata": {},
   "outputs": [],
   "source": []
  },
  {
   "cell_type": "code",
   "execution_count": 9,
   "id": "c7d8d346-201e-4cca-8e71-0f0c56f990f8",
   "metadata": {
    "tags": []
   },
   "outputs": [],
   "source": [
    "import random\n",
    "\n",
    "def stack_three_line(board, current_player):\n",
    "    opponent = 'X' if current_player == 'O' else 'O'\n",
    "    \n",
    "    # Check horizontalright\n",
    "    for row in range(6):\n",
    "        for col in range(4):\n",
    "            if (board[row][col] == board[row][col + 1] == board[row][col + 2] == current_player) and (col + 3 < 7 and board[row][col + 3] == ' '):\n",
    "                return col + 3\n",
    "            elif (col + 3 < 7 and board[row][col] == board[row][col + 1] == current_player == board[row][col + 3]) and (col + 2 < 7 and board[row][col + 2] == ' '):\n",
    "                return col + 2\n",
    "            elif (col + 4 < 7 and board[row][col] == board[row][col + 2] == current_player == board[row][col + 3]) and (col + 1 < 7 and board[row][col + 1] == ' '):\n",
    "                return col + 1\n",
    "    #check horizontal left\n",
    "    for row in range(6):\n",
    "        for col in range(3, 7):\n",
    "            if (board[row][col] == board[row][col - 1] == board[row][col - 2] == current_player) and (col - 3 >= 0 and board[row][col - 3] == ' '):\n",
    "                return col - 3\n",
    "            elif (col - 3 >= 0 and board[row][col] == board[row][col - 1] == current_player == board[row][col - 3]) and (col - 2 >= 0 and board[row][col - 2] == ' '):\n",
    "                return col - 2\n",
    "            elif (col - 4 >= 0 and board[row][col] == board[row][col - 2] == current_player == board[row][col - 3]) and (col - 1 >= 0 and board[row][col - 1] == ' '):\n",
    "                return col - 1\n",
    "\n",
    "            \n",
    "    # Check vertical\n",
    "    for col in range(7):\n",
    "        for row in range(3, 6):\n",
    "            if (board[row][col] == current_player and board[row - 1][col] == current_player and board[row - 2][col] == current_player):\n",
    "                if row - 3 >= 0 and board[row - 3][col] == ' ':\n",
    "                    return col\n",
    "                \n",
    "     # Check diagonal (top left to bottom right)\n",
    "    for row in range(3):\n",
    "        for col in range(4):\n",
    "            if (board[row][col] == board[row + 1][col + 1] == board[row + 2][col + 2] == current_player) and (row + 3 < 6 and col + 3 < 7 and board[row + 3][col + 3] == ' '):\n",
    "                return col + 3\n",
    "            elif (board[row][col] == board[row + 1][col + 1] == board[row + 3][col + 3] == current_player) and (row + 3 < 6 and col + 3 < 7 and board[row + 2][col + 2] == ' '):\n",
    "                return col + 2\n",
    "            elif (board[row][col] == board[row + 2][col + 2] == board[row + 3][col + 3] == current_player) and (row + 3 < 6 and col + 3 < 7 and board[row + 1][col + 1] == ' '):\n",
    "                return col + 1\n",
    "\n",
    "    # Check diagonal (top right to bottom left)\n",
    "    for row in range(3):\n",
    "        for col in range(3, 7):\n",
    "            if (board[row][col] == board[row + 1][col - 1] == board[row + 2][col - 2] == current_player) and (row + 3 < 6 and col - 3 >= 0 and board[row + 3][col - 3] == ' '):\n",
    "                return col - 3\n",
    "            elif (board[row][col] == board[row + 1][col - 1] == board[row + 3][col - 3] == current_player) and (row + 3 < 6 and col - 3 >= 0 and board[row + 2][col - 2] == ' '):\n",
    "                return col - 2\n",
    "            elif (board[row][col] == board[row + 2][col - 2] == board[row + 3][col - 3] == current_player) and (row + 3 < 6 and col - 3 >= 0 and board[row + 1][col - 1] == ' '):\n",
    "                return col - 1\n",
    "\n",
    "    # Check diagonal (top left to bottom right) in reverse order\n",
    "    for row in range(3, 6):\n",
    "        for col in range(3, 7):\n",
    "            if (board[row][col] == board[row - 1][col - 1] == board[row - 2][col - 2] == current_player) and (row - 3 >= 0 and col - 3 >= 0 and board[row - 3][col - 3] == ' '):\n",
    "                return col - 3\n",
    "            elif (board[row][col] == board[row - 1][col - 1] == board[row - 3][col - 3] == current_player) and (row - 3 >= 0 and col - 3 >= 0 and board[row - 2][col - 2] == ' '):\n",
    "                return col - 2\n",
    "            elif (board[row][col] == board[row - 2][col - 2] == board[row - 3][col - 3] == current_player) and (row - 3 >= 0 and col - 3 >= 0 and board[row - 1][col - 1] == ' '):\n",
    "                return col - 1\n",
    "\n",
    "    # Check diagonal (top right to bottom left) in reverse order\n",
    "    for row in range(3, 6):\n",
    "        for col in range(4):\n",
    "            if (board[row][col] == board[row - 1][col + 1] == board[row - 2][col + 2] == current_player) and (row - 3 >= 0 and col + 3 < 7 and board[row - 3][col + 3] == ' '):\n",
    "                return col + 3\n",
    "            elif (board[row][col] == board[row - 1][col + 1] == board[row - 3][col + 3] == current_player) and (row - 3 >= 0 and col + 3 < 7 and board[row - 2][col + 2] == ' '):\n",
    "                return col + 2\n",
    "            elif (board[row][col] == board[row - 2][col + 2] == board[row - 3][col + 3] == current_player) and (row - 3 >= 0 and col + 3 < 7 and board[row - 1][col + 1] == ' '):\n",
    "                return col + 1\n",
    "        # Block O X X _\n",
    "    for row in range(6):\n",
    "        for col in range(4):\n",
    "            if (board[row][col] == board[row][col + 1] == current_player) and (col + 2 < 7 and board[row][col + 2] == ' '):\n",
    "                return col + 2\n",
    "\n",
    "    # Block _ X X O\n",
    "    for row in range(6):\n",
    "        for col in range(3, 7):\n",
    "            if (board[row][col] == board[row][col - 1] == current_player) and (col - 2 >= 0 and board[row][col - 2] == ' '):\n",
    "                return col - 2\n",
    "            \n",
    "\n",
    "    return None"
   ]
  },
  {
   "cell_type": "markdown",
   "id": "aa00e97d-d040-4e62-b392-8625cecc6919",
   "metadata": {
    "tags": []
   },
   "source": [
    "#### Tries to make it 3 if there are 2 same inputs"
   ]
  },
  {
   "cell_type": "code",
   "execution_count": 10,
   "id": "70368fc3-b268-4821-a964-a4f55de4ab2f",
   "metadata": {
    "tags": []
   },
   "outputs": [],
   "source": [
    "def stack_two_line(board, current_player):\n",
    "    # Check horizontal\n",
    "    for row in range(6):\n",
    "        for col in range(4):\n",
    "            if (col <= 0 and board[row][col+1] == board[row][col + 2] == current_player) and (col + 3 < 7 and board[row][col + 3] == ' ' == board[row][col]):\n",
    "                return col if board[row][col] == \" \" else col + 3\n",
    "            elif (col <= 0 and board[row][col + 1] == board[row][col + 3] == current_player) and (col + 3 < 7 and board[row][col + 2] == ' ' == board[row][col]):\n",
    "                return col if board[row][col] == \" \" else col + 2\n",
    "            elif (col <= 0 and board[row][col + 1] == board[row][col + 3] == current_player) and (col + 4 < 7 and board[row][col + 2] == ' ' == board[row][col] == board[row][col + 4]):\n",
    "                return col if board[row][col] == \" \" else col + 2 if board[row][col + 2] == \" \" else col + 4\n",
    "            elif (col <= 0 and board[row][col] == board[row][col + 1] == current_player) and (col + 3 < 7 and board[row][col + 2] == ' ' == board[row][col + 3]):\n",
    "                return col + 3 if board[row][col + 3] == \" \" else col + 2\n",
    "            elif (col <= 0 and board[row][col + 2] == board[row][col + 3] == current_player) and (col + 3 < 7 and board[row][col + 1] == ' ' == board[row][col]):\n",
    "                return col if board[row][col] == \" \" else col + 1\n",
    "            elif (col <= 0 and board[row][col] == board[row][col + 3] == current_player) and (col + 3 < 7 and board[row][col + 1] == ' ' == board[row][col + 2]):\n",
    "                return col + 1 if board[row][col + 1] == \" \" else col + 2\n",
    "            elif (col <= 0 and board[row][col] == board[row][col + 2] == current_player) and (col + 3 < 7 and board[row][col + 1] == ' ' == board[row][col + 3]):\n",
    "                return col + 1 if board[row][col + 1] == \" \" else col + 3\n",
    "            \n",
    "    # Check vertical\n",
    "    for col in range(7):\n",
    "        for row in range(3, 6):\n",
    "            if (board[row][col] == current_player == board[row - 1][col]):\n",
    "                if row - 3 >= 0 and board[row - 3][col] == ' ' == board[row - 2][col]:\n",
    "                    return col\n",
    "\n",
    "    # Check diagonal (top right to bottom left)\n",
    "    for row in range(3, 6):\n",
    "        for col in range(4):\n",
    "            if (board[row][col] == board[row - 1][col + 1] == current_player) and (row - 3 >= 0 and col + 3 < 7 and board[row - 3][col + 3] == ' ' == board[row - 2][col + 2]):\n",
    "                return col + 2 if board[row - 2][col + 2] == \" \" else col + 3\n",
    "            elif (board[row][col] == board[row - 2][col + 2] == current_player) and (row - 3 >= 0 and col + 3 < 7 and board[row - 2][col + 2] == ' ' == board[row - 1][col + 1]):\n",
    "                return col + 2 if board[row - 2][col + 2] == \" \" else col + 1\n",
    "            elif (board[row - 1][col + 1] == board[row - 2][col + 2] == current_player) and (row - 3 >= 0 and col + 3 < 7 and board[row][col] == ' ' == board[row - 3][col + 3] ):\n",
    "                return col if board[row][col] == \" \" else col + 3\n",
    "            elif (board[row][col] == board[row - 3][col + 3] == current_player) and (row - 3 >= 0 and col + 3 < 7 and board[row - 1][col + 1] == ' ' == board[row - 2][col + 2] ):\n",
    "                return col + 1 if board[row - 1][col + 1] == \" \" else col + 2\n",
    "            elif (board[row - 1][col + 1] == board[row - 3][col + 3] == current_player) and (row - 3 >= 0 and col + 3 < 7 and board[row][col] == ' ' == board[row - 2][col + 2] ):\n",
    "                return col if board[row][col] == \" \" else col + 2\n",
    "            elif (board[row - 2][col + 2] == board[row - 3][col + 3] == current_player) and (row - 3 >= 0 and col + 3 < 7 and board[row][col] == ' ' == board[row - 1][col + 1] ):\n",
    "                return col if board[row][col] == \" \" else col + 1 \n",
    "\n",
    "    # Check diagonal (top left to bottom right)\n",
    "    for row in range(3):\n",
    "        for col in range(4):\n",
    "            if (board[row][col] == board[row + 1][col + 1] == current_player) and (row + 3 < 6 and col + 3 < 7 and board[row + 3][col + 3] == ' ' == board[row + 2][col + 2] ):\n",
    "                return col + 3 if board[row + 3][col + 3] == \" \" else col + 2\n",
    "            elif (board[row][col] == board[row + 2][col + 2] == current_player) and (row + 3 < 6 and col + 3 < 7 and board[row + 1][col + 1] == ' ' == board[row + 3][col + 3] ):\n",
    "                return col + 1 if board[row + 1][col + 1] == \" \" else col + 3\n",
    "            elif (board[row + 1][col + 1] == board[row + 2][col + 2] == current_player) and (row + 3 < 6 and col + 3 < 7 and board[row][col] == ' ' == board[row + 3][col + 3] ):\n",
    "                return col if board[row][col] == \" \" else col + 3\n",
    "            elif (board[row][col] == board[row + 3][col + 3] == current_player) and (row + 3 < 6 and col + 3 < 7 and board[row + 1][col + 1] == ' ' == board[row + 2][col + 2] ):\n",
    "                return col + 1 if board[row + 1][col + 1] == \" \" else col + 2\n",
    "            elif (board[row + 1][col + 1] == board[row + 3][col + 3] == current_player) and (row + 3 < 6 and col + 3 < 7 and board[row][col] == ' ' == board[row + 2][col + 2] ):\n",
    "                return col if board[row][col] == \" \" else col + 2\n",
    "            elif (board[row + 2][col + 2] == board[row + 3][col + 3] == current_player) and (row + 3 < 6 and col + 3 < 7 and board[row][col] == ' ' == board[row + 1][col + 1] ):\n",
    "                return col if board[row][col] == \" \" else col + 1\n",
    "\n",
    "    return None"
   ]
  },
  {
   "cell_type": "code",
   "execution_count": 11,
   "id": "68086f66-b0a8-4684-b8e3-27891bda7071",
   "metadata": {
    "tags": []
   },
   "outputs": [],
   "source": [
    "# Switches a random coin\n",
    "import random\n",
    "\n",
    "def switch_coin(board, current_player):\n",
    "    height = len(board)\n",
    "    width = len(board[0])\n",
    "\n",
    "    # Collect all the positions of the current player's coin\n",
    "    player_positions = []\n",
    "    for row in range(height):\n",
    "        for col in range(width):\n",
    "            if board[row][col] == current_player:\n",
    "                player_positions.append((row, col))\n",
    "\n",
    "    # Randomly select a position and switch the coin to the other player's coin\n",
    "    if player_positions:\n",
    "        row, col = random.choice(player_positions)\n",
    "        board[row][col] = 'X' if current_player == 'O' else 'O'\n",
    "\n",
    "    return board"
   ]
  },
  {
   "cell_type": "code",
   "execution_count": 12,
   "id": "bdac9549-0648-43b1-85f9-175d94d06864",
   "metadata": {
    "tags": []
   },
   "outputs": [],
   "source": [
    "# Run the Simulation\n",
    "def run_computer_vs_computer(num_games):\n",
    "\n",
    "    for _ in range(num_games):\n",
    "        reset_board()\n",
    "\n",
    "        # Randomly determine which player starts\n",
    "        starting_player = random.choice(['X', 'O'])\n",
    "\n",
    "        winner = play_game(board, starting_player)\n",
    "        player_wins[winner] += 1\n",
    "\n",
    "    print(\"\\nResults after\", num_games, \"games:\")\n",
    "    print(\"Player X wins:\", player_wins['X'])\n",
    "    print(\"Player O wins:\", player_wins['O'])\n",
    "    print(\"Ties:\", player_wins['Tie'])"
   ]
  },
  {
   "cell_type": "markdown",
   "id": "25f4ca2d-9fb0-4008-afb2-13a6d3f868a4",
   "metadata": {},
   "source": [
    "# End of Prepatory Functions"
   ]
  },
  {
   "cell_type": "markdown",
   "id": "cc887e59-3c31-4e3b-ae58-044357c8349d",
   "metadata": {},
   "source": [
    "# Counter4 Explanation and Why it is the better Connect4\n",
    "### Counter4 is played the same as Connect4, however after the 6th coin placed, every turn following will have a random coin on the grid switched to the opponent's\n",
    "\n",
    "## What does this mean?\n",
    "### In a normal Connect4 Game, the first player will always have more coins or equal the amount of the second player.\n",
    "### In Counter4, Once the 7th turn(First Player) happens, a random coin of the First Player will turn to the Second Player's.\n",
    "### Hence, afterwards the amount of coins from both players will equal out."
   ]
  },
  {
   "cell_type": "markdown",
   "id": "d93af179-6bd5-480f-9e13-97f321ce8c52",
   "metadata": {
    "tags": []
   },
   "source": [
    "# 1v1 Game Connect4"
   ]
  },
  {
   "cell_type": "code",
   "execution_count": null,
   "id": "96103c5b-aa66-4e07-88f2-dca81988d2e7",
   "metadata": {
    "tags": []
   },
   "outputs": [],
   "source": [
    "# PLaying Game for 1v1\n",
    "def play_game():\n",
    "    \n",
    "    current_player = 'X'\n",
    "    \n",
    "\n",
    "    while True:\n",
    "        \n",
    "        print_board(board)\n",
    "\n",
    "        # Get the column from the current player\n",
    "        col = int(input(f\"Player {current_player}, choose a column (1-7): \")) - 1\n",
    "\n",
    "        # Drop the piece in the column\n",
    "        drop_piece(board, col, current_player)\n",
    "\n",
    "        # Check if the current player has won\n",
    "        if check_win(board, current_player):\n",
    "            print_board(board)\n",
    "            print(f\"Player {current_player} wins!\")\n",
    "            break\n",
    "\n",
    "        # Check if the game board is full\n",
    "        if is_board_full(board):\n",
    "            print_board(board)\n",
    "            print(\"It's a tie!\")\n",
    "            break\n",
    "        # Switch to the other player\n",
    "        current_player = 'O' if current_player == 'X' else 'X'\n",
    "    reset_board()\n",
    "# Start the game\n",
    "play_game()"
   ]
  },
  {
   "cell_type": "markdown",
   "id": "d432f329-29cc-4f96-8237-bdee6dd8c45c",
   "metadata": {},
   "source": [
    "# 1v1 Game Counter4"
   ]
  },
  {
   "cell_type": "code",
   "execution_count": null,
   "id": "c586d948-e6e7-4ec6-bc2e-ec5ddbd13f0b",
   "metadata": {
    "tags": []
   },
   "outputs": [],
   "source": [
    "# PLaying Game for 1v1\n",
    "def play_game():\n",
    "    board = [[' ' for _ in range(7)] for _ in range(6)]\n",
    "    current_player = 'X'\n",
    "    count = 0\n",
    "\n",
    "    while True:\n",
    "        count +=1\n",
    "        print_board(board)\n",
    "\n",
    "        # Get the column from the current player\n",
    "        col = int(input(f\"Player {current_player}, choose a column (1-7): \")) - 1\n",
    "\n",
    "        # Drop the piece in the column\n",
    "        drop_piece(board, col, current_player)\n",
    "        \n",
    "        if count > 6:\n",
    "            board = switch_coin(board, current_player)\n",
    "            \n",
    "        # Check if the current player has won\n",
    "        if check_win(board, current_player):\n",
    "            print_board(board)\n",
    "            print(f\"Player {current_player} wins!\")\n",
    "            break\n",
    "\n",
    "        # Check if the game board is full\n",
    "        if is_board_full(board):\n",
    "            print_board(board)\n",
    "            print(\"It's a tie!\")\n",
    "            break\n",
    "        \n",
    "        # Switch to the other player\n",
    "        current_player = 'O' if current_player == 'X' else 'X'\n",
    "    reset_board()\n",
    "# Start the game\n",
    "play_game()"
   ]
  },
  {
   "cell_type": "markdown",
   "id": "5bdbddde-a0e1-4cc0-87b0-3e0c28a9d957",
   "metadata": {},
   "source": [
    "# Person VS Bot(Aggressive) Counter4"
   ]
  },
  {
   "cell_type": "code",
   "execution_count": null,
   "id": "5ff1ceea-37a8-4324-8eea-445650cd0d56",
   "metadata": {
    "tags": []
   },
   "outputs": [],
   "source": [
    "def run_human_vs_computer():\n",
    "    board = [[' ' for _ in range(7)] for _ in range(6)]\n",
    "    current_player = 'X'\n",
    "    count = 0\n",
    "\n",
    "    while True:\n",
    "        count+= 1\n",
    "        print_board(board)\n",
    "\n",
    "        if current_player == 'X':\n",
    "            # Human's turn\n",
    "            check = input(\"Player X, choose a column (1-7): \")\n",
    "            if check == \"q\":\n",
    "                break\n",
    "            col = int(check) - 1\n",
    "        else:\n",
    "            col = stack_three_line(board, current_player)  # Try to block the computer from losing\n",
    "            if col is None:\n",
    "                col = stack_two_line(board, current_player)  # Try to block the computer from losing\n",
    "                if col is None:\n",
    "                    col = block_three_line(board, current_player)  # Try to stack two for the computer\n",
    "                    if col is None:\n",
    "                        col = block_two_line(board, current_player)  # Try to stack two for the computer\n",
    "                        if col is None:\n",
    "                            col = random.randint(0,6)\n",
    "\n",
    "        drop_piece(board, col, current_player)\n",
    "        \n",
    "        if count > 6:\n",
    "            board = switch_coin(board, current_player)\n",
    "\n",
    "        if check_win(board, current_player):\n",
    "            print_board(board)\n",
    "            print(f\"Player {current_player} wins!\")\n",
    "            break\n",
    "\n",
    "        if is_board_full(board):\n",
    "            print_board(board)\n",
    "            print(\"It's a tie!\")\n",
    "            break\n",
    "        \n",
    "        current_player = 'O' if current_player == 'X' else 'X'\n",
    "    reset_board()\n",
    "# Run the game\n",
    "run_human_vs_computer()"
   ]
  },
  {
   "cell_type": "markdown",
   "id": "c396836f-c7aa-47a9-bccf-b294fc1a2f2d",
   "metadata": {},
   "source": [
    "# Bot(Aggressive) vs Bot(Random Inputs) Connect4"
   ]
  },
  {
   "cell_type": "code",
   "execution_count": 38,
   "id": "7e880fbe-29ca-4a20-a096-e04b486c2903",
   "metadata": {
    "tags": []
   },
   "outputs": [],
   "source": [
    "import random\n",
    "def play_game(board, starting_player):\n",
    "    \n",
    "    current_player = 'X'\n",
    "    \n",
    "\n",
    "    while True:\n",
    "        \n",
    "        # Remove the print_board() call to avoid printing the board at each move\n",
    "        if current_player == 'X':\n",
    "            col = stack_three_line(board, current_player)\n",
    "            if col is None:\n",
    "                col = stack_two_line(board, current_player)\n",
    "                if col is None:\n",
    "                    col = block_three_line(board, current_player)\n",
    "                    if col is None:\n",
    "                        col = block_two_line(board, current_player)\n",
    "                        if col is None:\n",
    "                            col = random.randint(2,5)\n",
    "        else:\n",
    "            col = random.randint(0,6)\n",
    "\n",
    "\n",
    "        drop_piece(board, col, current_player)\n",
    "        \n",
    "        if check_win(board, current_player):\n",
    "            return current_player\n",
    "\n",
    "        if is_board_full(board):\n",
    "            return 'Tie'\n",
    "        \n",
    "    \n",
    "        current_player = 'O' if current_player == 'X' else 'X'\n",
    "    \n",
    "    return None\n",
    "\n",
    "player_wins = {'X': 0, 'O': 0, 'Tie': 0}\n"
   ]
  },
  {
   "cell_type": "code",
   "execution_count": 39,
   "id": "8058c819-995e-4076-9457-7fbc535e39e5",
   "metadata": {
    "tags": []
   },
   "outputs": [
    {
     "name": "stdout",
     "output_type": "stream",
     "text": [
      "\n",
      "Results after 10000 games:\n",
      "Player X wins: 9851\n",
      "Player O wins: 149\n",
      "Ties: 0\n"
     ]
    },
    {
     "data": {
      "image/png": "[encoded data removed]",
      "text/plain": [
       "<Figure size 640x480 with 1 Axes>"
      ]
     },
     "metadata": {},
     "output_type": "display_data"
    }
   ],
   "source": [
    "# Simulate\n",
    "player_wins = {'X': 0, 'O': 0, 'Tie': 0}\n",
    "\n",
    "run_computer_vs_computer(10000)\n",
    "\n",
    "#Plot\n",
    "import matplotlib.pyplot as plt\n",
    "\n",
    "# Plot the results\n",
    "labels = ['Bot(Aggressive) wins', 'Bot(Random) wins', 'Ties']\n",
    "values = [player_wins['X'], player_wins['O'], player_wins['Tie']]\n",
    "\n",
    "fig, ax = plt.subplots()\n",
    "ax.bar(labels, values, color=['blue', 'red', 'green'])\n",
    "ax.set_ylabel('Number of Wins')\n",
    "ax.set_title('Results of Bot(Aggressive) vs Bot(Random) Games (10000 games) Counter4')\n",
    "\n",
    "plt.show()"
   ]
  },
  {
   "cell_type": "markdown",
   "id": "c031bf57-14e3-406e-91ab-9862ad1d02af",
   "metadata": {},
   "source": [
    "# Bot(Aggressive) vs Bot(Random Inputs) Counter4"
   ]
  },
  {
   "cell_type": "code",
   "execution_count": 36,
   "id": "ede09440-bc99-4eb0-beab-08faee449f47",
   "metadata": {
    "tags": []
   },
   "outputs": [],
   "source": [
    "import random\n",
    "def play_game(board, starting_player):\n",
    "    board = [[' ' for _ in range(7)] for _ in range(6)]\n",
    "    current_player = 'X'\n",
    "    count = 0\n",
    "\n",
    "    while True:\n",
    "        count+=1\n",
    "        # Remove the print_board() call to avoid printing the board at each move\n",
    "        if current_player == 'X':\n",
    "            col = stack_three_line(board, current_player)\n",
    "            if col is None:\n",
    "                col = stack_two_line(board, current_player)\n",
    "                if col is None:\n",
    "                    col = block_three_line(board, current_player)\n",
    "                    if col is None:\n",
    "                        col = block_two_line(board, current_player)\n",
    "                        if col is None:\n",
    "                            col = random.randint(2,5)\n",
    "        else:\n",
    "            col = random.randint(0,6)\n",
    "\n",
    "\n",
    "        drop_piece(board, col, current_player)\n",
    "        \n",
    "        if count > 6:\n",
    "            board = switch_coin(board, current_player)\n",
    "        \n",
    "        if check_win(board, current_player):\n",
    "            return current_player\n",
    "\n",
    "        if is_board_full(board):\n",
    "            return 'Tie'\n",
    "        \n",
    "        \n",
    "        current_player = 'O' if current_player == 'X' else 'X'\n",
    "    \n",
    "    return None\n",
    "\n",
    "player_wins = {'X': 0, 'O': 0, 'Tie': 0}\n",
    "\n"
   ]
  },
  {
   "cell_type": "code",
   "execution_count": 37,
   "id": "c81c88f6-7bfa-4ccd-919e-790e14e2d074",
   "metadata": {
    "tags": []
   },
   "outputs": [
    {
     "name": "stdout",
     "output_type": "stream",
     "text": [
      "\n",
      "Results after 10000 games:\n",
      "Player X wins: 7641\n",
      "Player O wins: 2359\n",
      "Ties: 0\n"
     ]
    },
    {
     "data": {
      "image/png": "[encoded data removed]",
      "text/plain": [
       "<Figure size 640x480 with 1 Axes>"
      ]
     },
     "metadata": {},
     "output_type": "display_data"
    }
   ],
   "source": [
    "# Simulate\n",
    "player_wins = {'X': 0, 'O': 0, 'Tie': 0}\n",
    "\n",
    "run_computer_vs_computer(10000)\n",
    "\n",
    "#Plot\n",
    "import matplotlib.pyplot as plt\n",
    "\n",
    "# Plot the results\n",
    "labels = ['Bot(Aggressive) wins', 'Bot(Random) wins', 'Ties']\n",
    "values = [player_wins['X'], player_wins['O'], player_wins['Tie']]\n",
    "\n",
    "fig, ax = plt.subplots()\n",
    "ax.bar(labels, values, color=['blue', 'red', 'green'])\n",
    "ax.set_ylabel('Number of Wins')\n",
    "ax.set_title('Results of Bot(Aggressive) vs Bot(Random) Games (10000 games) Counter4')\n",
    "\n",
    "plt.show()"
   ]
  },
  {
   "cell_type": "markdown",
   "id": "008b46d9-38d0-4cd9-b318-fab803bde1b7",
   "metadata": {},
   "source": [
    "# Simulation of Different Strategies\n",
    "### Aggressive: Prioritize in placing coins to BUILD their 3 stack or 2 stack\n",
    "### Defensive: Prioritize in placing coins to BLOCK enemy 3 stack or 2 stack\n",
    "### Neutral: Prioritize in BLOCKING 3 Stack and BUILDING 3 Stacks"
   ]
  },
  {
   "cell_type": "markdown",
   "id": "18d80cc5-c177-46c5-a7a1-65745c0a09e1",
   "metadata": {},
   "source": [
    "# Bot(Aggressive) vs Bot(Defensive)"
   ]
  },
  {
   "cell_type": "code",
   "execution_count": 192,
   "id": "270aeedd-3e78-40be-a490-45cf6db4a2aa",
   "metadata": {
    "tags": []
   },
   "outputs": [],
   "source": [
    "import random\n",
    "def play_game(board, starting_player):\n",
    "    board = [[' ' for _ in range(7)] for _ in range(6)]\n",
    "    current_player = 'X'\n",
    "    count = 0\n",
    "\n",
    "    while True:\n",
    "        count+= 1\n",
    "        # Remove the print_board() call to avoid printing the board at each move\n",
    "        # print_board(board)\n",
    "\n",
    "        if current_player == 'X':\n",
    "            col = stack_three_line(board, current_player)\n",
    "            if col is None:\n",
    "                col = stack_two_line(board, current_player)\n",
    "                if col is None:\n",
    "                    col = block_three_line(board, current_player)\n",
    "                    if col is None:\n",
    "                        col = block_two_line(board, current_player)\n",
    "                        if col is None:\n",
    "                            col = random.randint(2,5)\n",
    "            \n",
    "        else:\n",
    "            col = block_three_line(board, current_player)  # Try to block the computer from losing\n",
    "            if col is None:\n",
    "                col = block_two_line(board, current_player)  # Try to block the computer from losing\n",
    "                if col is None:\n",
    "                    col = stack_three_line(board, current_player)  # Try to stack two for the computer\n",
    "                    if col is None:\n",
    "                        col = stack_two_line(board, current_player)  # Try to stack two for the computer\n",
    "                        if col is None:\n",
    "                            col = random.randint(0,6)\n",
    "            \n",
    "\n",
    "\n",
    "        drop_piece(board, col, current_player)\n",
    "\n",
    "        if count > 6:\n",
    "            board = switch_coin(board, current_player)\n",
    "            \n",
    "        if check_win(board, current_player):\n",
    "            return current_player\n",
    "\n",
    "        if is_board_full(board):\n",
    "            return 'Tie'\n",
    "        \n",
    "        current_player = 'O' if current_player == 'X' else 'X'\n",
    "\n",
    "    return None\n",
    "\n",
    "player_wins = {'X': 0, 'O': 0, 'Tie': 0}"
   ]
  },
  {
   "cell_type": "code",
   "execution_count": 193,
   "id": "547afae2-9776-4aa7-ba40-160d0ad1e66f",
   "metadata": {
    "tags": []
   },
   "outputs": [
    {
     "name": "stdout",
     "output_type": "stream",
     "text": [
      "\n",
      "Results after 10000 games:\n",
      "Player X wins: 5511\n",
      "Player O wins: 4489\n",
      "Ties: 0\n"
     ]
    },
    {
     "data": {
      "image/png": "[encoded data removed]",
      "text/plain": [
       "<Figure size 640x480 with 1 Axes>"
      ]
     },
     "metadata": {},
     "output_type": "display_data"
    }
   ],
   "source": [
    "# Simulate\n",
    "player_wins = {'X': 0, 'O': 0, 'Tie': 0}\n",
    "\n",
    "run_computer_vs_computer(10000)\n",
    "\n",
    "#Plot\n",
    "import matplotlib.pyplot as plt\n",
    "\n",
    "# Plot the results\n",
    "labels = ['Bot(Aggressive) wins', 'Bot(Defensive)', 'Ties']\n",
    "values = [player_wins['X'], player_wins['O'], player_wins['Tie']]\n",
    "\n",
    "fig, ax = plt.subplots()\n",
    "ax.bar(labels, values, color=['blue', 'red', 'green'])\n",
    "ax.set_ylabel('Number of Wins')\n",
    "ax.set_title('Results of Bot(Aggressive) vs Bot(Defensive) (10000 games) Counter4')\n",
    "\n",
    "plt.show()"
   ]
  },
  {
   "cell_type": "markdown",
   "id": "47dfe8fa-349f-49b2-a108-89831942d8fb",
   "metadata": {},
   "source": [
    "# Bot(Aggressive) vs Bot(Neutral)"
   ]
  },
  {
   "cell_type": "code",
   "execution_count": 22,
   "id": "77dad811-a462-4a5f-be3a-63f3363dc4a3",
   "metadata": {
    "tags": []
   },
   "outputs": [],
   "source": [
    "import random\n",
    "def play_game(board, starting_player):\n",
    "    board = [[' ' for _ in range(7)] for _ in range(6)]\n",
    "    current_player = 'X'\n",
    "    count = 0\n",
    "\n",
    "    while True:\n",
    "        count += 1\n",
    "        # Remove the print_board() call to avoid printing the board at each move\n",
    "        # print_board(board)\n",
    "\n",
    "        if current_player == 'X':\n",
    "            col = stack_three_line(board, current_player)\n",
    "            if col is None:\n",
    "                col = stack_two_line(board, current_player)\n",
    "                if col is None:\n",
    "                    col = block_three_line(board, current_player)\n",
    "                    if col is None:\n",
    "                        col = block_two_line(board, current_player)\n",
    "                        if col is None:\n",
    "                            col = random.randint(2,5)\n",
    "        else:\n",
    "            col = stack_three_line(board, current_player)  # Try to block the computer from losing\n",
    "            if col is None:\n",
    "                col = block_three_line(board, current_player)  # Try to block the computer from losing\n",
    "                if col is None:\n",
    "                    col = random.randint(0,6)\n",
    "            \n",
    "\n",
    "        drop_piece(board, col, current_player)\n",
    "        if count > 6:\n",
    "            board = switch_coin(board, current_player)\n",
    "\n",
    "        if check_win(board, current_player):\n",
    "            return current_player\n",
    "\n",
    "        if is_board_full(board):\n",
    "            return 'Tie'\n",
    "        \n",
    "        \n",
    "        \n",
    "        current_player = 'O' if current_player == 'X' else 'X'\n",
    "\n",
    "    return None\n",
    "\n",
    "player_wins = {'X': 0, 'O': 0, 'Tie': 0}"
   ]
  },
  {
   "cell_type": "code",
   "execution_count": 23,
   "id": "3748f2b6-7d3e-46c5-ba85-d0f4eee4f915",
   "metadata": {
    "tags": []
   },
   "outputs": [
    {
     "name": "stdout",
     "output_type": "stream",
     "text": [
      "\n",
      "Results after 10000 games:\n",
      "Player X wins: 4707\n",
      "Player O wins: 5293\n",
      "Ties: 0\n"
     ]
    },
    {
     "data": {
      "image/png": "[encoded data removed]",
      "text/plain": [
       "<Figure size 640x480 with 1 Axes>"
      ]
     },
     "metadata": {},
     "output_type": "display_data"
    }
   ],
   "source": [
    "# Simulate\n",
    "player_wins = {'X': 0, 'O': 0, 'Tie': 0}\n",
    "\n",
    "run_computer_vs_computer(10000)\n",
    "\n",
    "#Plot\n",
    "import matplotlib.pyplot as plt\n",
    "\n",
    "# Plot the results\n",
    "labels = ['Bot(Aggressive) wins', 'Bot(Neutral) wins', 'Ties']\n",
    "values = [player_wins['X'], player_wins['O'], player_wins['Tie']]\n",
    "\n",
    "fig, ax = plt.subplots()\n",
    "ax.bar(labels, values, color=['blue', 'red', 'green'])\n",
    "ax.set_ylabel('Number of Wins')\n",
    "ax.set_title('Results of Bot(Aggressive) vs Bot(Neutral) (10000 games)')\n",
    "\n",
    "plt.show()"
   ]
  },
  {
   "cell_type": "markdown",
   "id": "60eb52e6-1ad8-4f3f-ac2e-1714bdbe7f18",
   "metadata": {},
   "source": [
    "# Bot(Neutral) vs Bot(Defensive)"
   ]
  },
  {
   "cell_type": "code",
   "execution_count": 25,
   "id": "1ffd6b85-3ed9-4746-9ba1-6190dd7d23aa",
   "metadata": {
    "tags": []
   },
   "outputs": [],
   "source": [
    "import random\n",
    "def play_game(board, starting_player):\n",
    "    board = [[' ' for _ in range(7)] for _ in range(6)]\n",
    "    current_player = 'X'\n",
    "    count = 0\n",
    "\n",
    "\n",
    "    while True:\n",
    "        count+= 1\n",
    "        # Remove the print_board() call to avoid printing the board at each move\n",
    "        # print_board(board)\n",
    "\n",
    "        if current_player == 'X':\n",
    "            col = stack_three_line(board, current_player)  # Try to block the computer from losing\n",
    "            if col is None:\n",
    "                col = block_three_line(board, current_player)  # Try to block the computer from losing\n",
    "                if col is None:\n",
    "                    col = random.randint(0,6)\n",
    "            \n",
    "        else:\n",
    "            col = block_three_line(board, current_player)  # Try to block the computer from losing\n",
    "            if col is None:\n",
    "                col = block_two_line(board, current_player)  # Try to block the computer from losing\n",
    "                if col is None:\n",
    "                    col = stack_three_line(board, current_player)  # Try to stack two for the computer\n",
    "                    if col is None:\n",
    "                        col = stack_two_line(board, current_player)  # Try to stack two for the computer\n",
    "                        if col is None:\n",
    "                            col = random.randint(0,6)\n",
    "            \n",
    "\n",
    "\n",
    "        drop_piece(board, col, current_player)\n",
    "        if count > 6:\n",
    "            board = switch_coin(board, current_player)\n",
    "\n",
    "        if check_win(board, current_player):\n",
    "            return current_player\n",
    "\n",
    "        if is_board_full(board):\n",
    "            return 'Tie'\n",
    "        \n",
    "        \n",
    "        current_player = 'O' if current_player == 'X' else 'X'\n",
    "\n",
    "    return None\n",
    "\n",
    "player_wins = {'X': 0, 'O': 0, 'Tie': 0}"
   ]
  },
  {
   "cell_type": "code",
   "execution_count": 26,
   "id": "1ffe3253-b548-441a-83a1-1b9e385b6697",
   "metadata": {
    "tags": []
   },
   "outputs": [
    {
     "name": "stdout",
     "output_type": "stream",
     "text": [
      "\n",
      "Results after 10000 games:\n",
      "Player X wins: 4528\n",
      "Player O wins: 5472\n",
      "Ties: 0\n"
     ]
    },
    {
     "data": {
      "image/png": "[encoded data removed]",
      "text/plain": [
       "<Figure size 640x480 with 1 Axes>"
      ]
     },
     "metadata": {},
     "output_type": "display_data"
    }
   ],
   "source": [
    "# Simulate\n",
    "player_wins = {'X': 0, 'O': 0, 'Tie': 0}\n",
    "\n",
    "run_computer_vs_computer(10000)\n",
    "\n",
    "#Plot\n",
    "import matplotlib.pyplot as plt\n",
    "\n",
    "# Plot the results\n",
    "labels = ['Bot(Neutral) wins', 'Bot(Defensive)', 'Ties']\n",
    "values = [player_wins['X'], player_wins['O'], player_wins['Tie']]\n",
    "\n",
    "fig, ax = plt.subplots()\n",
    "ax.bar(labels, values, color=['blue', 'red', 'green'])\n",
    "ax.set_ylabel('Number of Wins')\n",
    "ax.set_title('Results of Bot(Neutral) vs Bot(Defensive) (10000 games)')\n",
    "\n",
    "plt.show()"
   ]
  },
  {
   "cell_type": "code",
   "execution_count": null,
   "id": "f56d583e-cbf4-4be6-92ca-bafdbcd786e9",
   "metadata": {},
   "outputs": [],
   "source": []
  }
 ],
 "metadata": {
  "kernelspec": {
   "display_name": "Python 3 (ipykernel)",
   "language": "python",
   "name": "python3"
  },
  "language_info": {
   "codemirror_mode": {
    "name": "ipython",
    "version": 3
   },
   "file_extension": ".py",
   "mimetype": "text/x-python",
   "name": "python",
   "nbconvert_exporter": "python",
   "pygments_lexer": "ipython3",
   "version": "3.11.4"
  }
 },
 "nbformat": 4,
 "nbformat_minor": 5
}
